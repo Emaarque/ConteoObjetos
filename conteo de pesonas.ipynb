{
 "cells": [
  {
   "cell_type": "code",
   "execution_count": 1,
   "metadata": {},
   "outputs": [],
   "source": [
    "import cv2\n",
    "import torch\n",
    "import numpy as np\n",
    "from PIL import Image"
   ]
  },
  {
   "cell_type": "code",
   "execution_count": 2,
   "metadata": {},
   "outputs": [
    {
     "name": "stderr",
     "output_type": "stream",
     "text": [
      "Using cache found in /home/ia1/.cache/torch/hub/ultralytics_yolov5_master\n",
      "YOLOv5 🚀 2021-8-17 torch 1.9.0+cpu CPU\n",
      "\n",
      "Fusing layers... \n",
      "Model Summary: 224 layers, 7266973 parameters, 0 gradients\n",
      "Adding AutoShape... \n"
     ]
    }
   ],
   "source": [
    "model= torch.hub.load('ultralytics/yolov5', 'yolov5s')# modelo"
   ]
  },
  {
   "cell_type": "code",
   "execution_count": 3,
   "metadata": {},
   "outputs": [],
   "source": [
    "model.classes= [0]\n"
   ]
  },
  {
   "cell_type": "code",
   "execution_count": 4,
   "metadata": {},
   "outputs": [],
   "source": [
    "def contar_personas(frame):\n",
    "    x= frame.shape[1]\n",
    "    y= frame.shape[0]\n",
    "    result= model(frame)\n",
    "    tensor= result.xyxyn[0]\n",
    "    if tensor.size()[0]==0:\n",
    "        return frame\n",
    "    else:\n",
    "        for i in range(tensor.size()[0]):\n",
    "            box= tensor[i][0:4]\n",
    "            num= str(tensor.size()[0])\n",
    "            xmin= int(tensor[i][0]*x)\n",
    "            ymin= int(tensor[i][1]*y)\n",
    "            xmax= int(tensor[i][2]*x)\n",
    "            ymax= int(tensor[i][3]*y)\n",
    "            cv2.rectangle(frame, (xmin,ymin), (xmax,ymax),(0, 255, 0),3)\n",
    "            cv2.putText(frame,num, (xmax,ymax), cv2.FONT_HERSHEY_SIMPLEX, 0.7, (255,0,0),2)\n",
    "        cv2.putText(frame,num, (20,20), cv2.FONT_HERSHEY_SIMPLEX, 0.7, (255,0,0),2)\n",
    "        return frame"
   ]
  },
  {
   "cell_type": "code",
   "execution_count": 6,
   "metadata": {},
   "outputs": [],
   "source": [
    "cap= cv2.VideoCapture(0)\n",
    "while(True):\n",
    "    ret, frame= cap.read()\n",
    "    img= cv2.resize(frame, (0,0), fx=0.9, fy=0.9)\n",
    "    frame= contar_personas(img)\n",
    "    cv2.imshow('cam',frame)\n",
    "    if cv2.waitKey(1) & 0xFF == ord('q'):\n",
    "        break\n",
    "\n",
    "cv2.destroyAllWindows()\n"
   ]
  },
  {
   "cell_type": "code",
   "execution_count": null,
   "metadata": {},
   "outputs": [],
   "source": []
  }
 ],
 "metadata": {
  "kernelspec": {
   "display_name": "Python 3 (ipykernel)",
   "language": "python",
   "name": "python3"
  },
  "language_info": {
   "codemirror_mode": {
    "name": "ipython",
    "version": 3
   },
   "file_extension": ".py",
   "mimetype": "text/x-python",
   "name": "python",
   "nbconvert_exporter": "python",
   "pygments_lexer": "ipython3",
   "version": "3.7.9"
  }
 },
 "nbformat": 4,
 "nbformat_minor": 4
}
